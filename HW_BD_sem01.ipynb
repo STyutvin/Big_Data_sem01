{
  "cells": [
    {
      "cell_type": "markdown",
      "metadata": {
        "id": "n0NOraFOjK73"
      },
      "source": [
        " # Подготовка окружения"
      ]
    },
    {
      "cell_type": "code",
      "execution_count": 2,
      "metadata": {
        "colab": {
          "base_uri": "https://localhost:8080/"
        },
        "id": "KsYpG9IpFYCK",
        "outputId": "847896c6-94b0-42b1-d5d8-b17545f24451"
      },
      "outputs": [
        {
          "name": "stdout",
          "output_type": "stream",
          "text": [
            "Collecting opendatasets\n",
            "  Downloading opendatasets-0.1.22-py3-none-any.whl (15 kB)\n",
            "Requirement already satisfied: tqdm in /usr/local/lib/python3.10/dist-packages (from opendatasets) (4.66.1)\n",
            "Requirement already satisfied: kaggle in /usr/local/lib/python3.10/dist-packages (from opendatasets) (1.5.16)\n",
            "Requirement already satisfied: click in /usr/local/lib/python3.10/dist-packages (from opendatasets) (8.1.7)\n",
            "Requirement already satisfied: six>=1.10 in /usr/local/lib/python3.10/dist-packages (from kaggle->opendatasets) (1.16.0)\n",
            "Requirement already satisfied: certifi in /usr/local/lib/python3.10/dist-packages (from kaggle->opendatasets) (2023.11.17)\n",
            "Requirement already satisfied: python-dateutil in /usr/local/lib/python3.10/dist-packages (from kaggle->opendatasets) (2.8.2)\n",
            "Requirement already satisfied: requests in /usr/local/lib/python3.10/dist-packages (from kaggle->opendatasets) (2.31.0)\n",
            "Requirement already satisfied: python-slugify in /usr/local/lib/python3.10/dist-packages (from kaggle->opendatasets) (8.0.1)\n",
            "Requirement already satisfied: urllib3 in /usr/local/lib/python3.10/dist-packages (from kaggle->opendatasets) (2.0.7)\n",
            "Requirement already satisfied: bleach in /usr/local/lib/python3.10/dist-packages (from kaggle->opendatasets) (6.1.0)\n",
            "Requirement already satisfied: webencodings in /usr/local/lib/python3.10/dist-packages (from bleach->kaggle->opendatasets) (0.5.1)\n",
            "Requirement already satisfied: text-unidecode>=1.3 in /usr/local/lib/python3.10/dist-packages (from python-slugify->kaggle->opendatasets) (1.3)\n",
            "Requirement already satisfied: charset-normalizer<4,>=2 in /usr/local/lib/python3.10/dist-packages (from requests->kaggle->opendatasets) (3.3.2)\n",
            "Requirement already satisfied: idna<4,>=2.5 in /usr/local/lib/python3.10/dist-packages (from requests->kaggle->opendatasets) (3.6)\n",
            "Installing collected packages: opendatasets\n",
            "Successfully installed opendatasets-0.1.22\n"
          ]
        }
      ],
      "source": [
        "!pip install opendatasets"
      ]
    },
    {
      "cell_type": "code",
      "execution_count": 3,
      "metadata": {
        "id": "0PhWn1yjFd1L"
      },
      "outputs": [],
      "source": [
        "import opendatasets as od\n",
        "import pandas as pd\n",
        "import time\n",
        "from functools import reduce\n",
        "from pathlib import Path"
      ]
    },
    {
      "cell_type": "markdown",
      "metadata": {
        "id": "RynShBkvjUfi"
      },
      "source": [
        "Скачиваем датасет"
      ]
    },
    {
      "cell_type": "code",
      "execution_count": 4,
      "metadata": {
        "colab": {
          "base_uri": "https://localhost:8080/"
        },
        "id": "qeWSaWkZRFxY",
        "outputId": "c595bd31-2588-4730-ab04-58afd1f979d2"
      },
      "outputs": [
        {
          "name": "stdout",
          "output_type": "stream",
          "text": [
            "Please provide your Kaggle credentials to download this dataset. Learn more: http://bit.ly/kaggle-creds\n",
            "Your Kaggle username: absolutezlo\n",
            "Your Kaggle Key: ··········\n",
            "Downloading imdb-user-reviews.zip to ./imdb-user-reviews\n"
          ]
        },
        {
          "name": "stderr",
          "output_type": "stream",
          "text": [
            "100%|██████████| 15.1M/15.1M [00:00<00:00, 75.7MB/s]\n"
          ]
        },
        {
          "name": "stdout",
          "output_type": "stream",
          "text": [
            "\n"
          ]
        }
      ],
      "source": [
        "dataset_path = Path('imdb-user-reviews', 'song_lyrics.csv')\n",
        "if not dataset_path.is_file():\n",
        "    od.download('https://www.kaggle.com/datasets/sadmadlad/imdb-user-reviews')"
      ]
    },
    {
      "cell_type": "markdown",
      "metadata": {
        "id": "jqh_NMwMjfhO"
      },
      "source": [
        "# Домашняя работа"
      ]
    },
    {
      "cell_type": "markdown",
      "metadata": {
        "id": "dSCZYSMrTtEM"
      },
      "source": [
        "Сделайте mapper и reducer, чтобы посчитать среднее и дисперсию оценок за фильм. Реализация через цикл (предпогаем, что мы не знаем сколько у нас фильмов):"
      ]
    },
    {
      "cell_type": "code",
      "execution_count": 18,
      "metadata": {
        "colab": {
          "base_uri": "https://localhost:8080/"
        },
        "id": "yBhMEH50MCyf",
        "outputId": "ed320c40-91ee-473c-8e5b-27f55753f66b"
      },
      "outputs": [
        {
          "name": "stdout",
          "output_type": "stream",
          "text": [
            "8.03 1.0517128885774862\n"
          ]
        }
      ],
      "source": [
        "import json\n",
        "\n",
        "\n",
        "n, mean, M2 = 0, 0.0, 0\n",
        "for path in Path('imdb-user-reviews').glob('**/*'):\n",
        "    if path.is_file() and path.suffix == '.json':\n",
        "        with open(path, 'r') as f:\n",
        "            info = json.load(f)\n",
        "        score = float(info['movieIMDbRating'])\n",
        "        n += 1\n",
        "        delta = score - mean\n",
        "        mean += delta / n\n",
        "        M2 += delta * (score - mean)\n",
        "\n",
        "print(mean, (M2 / n) ** (1/2))"
      ]
    },
    {
      "cell_type": "markdown",
      "metadata": {
        "id": "Ic09ccPLbMUR"
      },
      "source": [
        "На основе этого кода соберите mapper и reducer:"
      ]
    },
    {
      "cell_type": "code",
      "execution_count": 19,
      "metadata": {
        "id": "27ix083ng2kO"
      },
      "outputs": [],
      "source": [
        "def mapper(path):\n",
        "    # Ваш код\n",
        "    return (score, )\n",
        "\n",
        "\n",
        "def reducer(score_data1, score_data2):\n",
        "    #  Ваш код\n",
        "    return n, mean, M2"
      ]
    },
    {
      "cell_type": "code",
      "execution_count": 20,
      "metadata": {
        "colab": {
          "base_uri": "https://localhost:8080/"
        },
        "id": "aBa-fXxFg40_",
        "outputId": "e15de309-1919-4209-c50d-ea5f7d66513a"
      },
      "outputs": [
        {
          "name": "stdout",
          "output_type": "stream",
          "text": [
            "8.03 1.0517128885774862\n",
            "CPU times: user 2.34 ms, sys: 0 ns, total: 2.34 ms\n",
            "Wall time: 4.6 ms\n"
          ]
        }
      ],
      "source": [
        "%%time\n",
        "n, mean, M2 = reduce(reducer, map(mapper, Path('imdb-user-reviews').glob('**/*')))\n",
        "print(mean, (M2 / n) ** (1/2))"
      ]
    },
    {
      "cell_type": "markdown",
      "metadata": {
        "id": "MpuzKNSPgxxa"
      },
      "source": [
        "## Решение:"
      ]
    },
    {
      "cell_type": "code",
      "execution_count": 21,
      "metadata": {
        "id": "Iwf45HvybcFb"
      },
      "outputs": [],
      "source": [
        "def mapper(path):\n",
        "    if path.is_file() and path.suffix == '.json':\n",
        "        with open(path, 'r') as f:\n",
        "            info = json.load(f)\n",
        "        return (float(info['movieIMDbRating']), )\n",
        "\n",
        "\n",
        "def reducer(score_data1, score_data2):\n",
        "    if score_data1 is None and score_data2 is None:\n",
        "        return None\n",
        "    elif score_data1 is None:\n",
        "        return score_data2\n",
        "    elif score_data2 is None:\n",
        "        return score_data1\n",
        "    else:\n",
        "        scores = []\n",
        "        if len(score_data1) == 1:\n",
        "            n, mean, M2 = 0, 0.0, 0\n",
        "            scores.append(score_data1[0])\n",
        "        else:\n",
        "            n, mean, M2 = score_data1\n",
        "        scores.append(score_data2[0])\n",
        "        for score in scores:\n",
        "            n += 1\n",
        "            delta = score - mean\n",
        "            mean += delta / n\n",
        "            M2 += delta * (score - mean)\n",
        "        return n, mean, M2"
      ]
    },
    {
      "cell_type": "code",
      "execution_count": 22,
      "metadata": {
        "colab": {
          "base_uri": "https://localhost:8080/"
        },
        "id": "OYWxmWLkenYR",
        "outputId": "dcb50c3e-7b30-46fa-e61c-7a1752d4b156"
      },
      "outputs": [
        {
          "name": "stdout",
          "output_type": "stream",
          "text": [
            "8.03 1.0517128885774862\n",
            "CPU times: user 2.63 ms, sys: 995 µs, total: 3.62 ms\n",
            "Wall time: 3.63 ms\n"
          ]
        }
      ],
      "source": [
        "%%time\n",
        "n, mean, M2 = reduce(reducer, map(mapper, Path('imdb-user-reviews').glob('**/*')))\n",
        "print(mean, (M2 / n) ** (1/2))"
      ]
    }
  ],
  "metadata": {
    "colab": {
      "provenance": []
    },
    "kernelspec": {
      "display_name": "Python 3",
      "name": "python3"
    },
    "language_info": {
      "name": "python"
    }
  },
  "nbformat": 4,
  "nbformat_minor": 0
}
